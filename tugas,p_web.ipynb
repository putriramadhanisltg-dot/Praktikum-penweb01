{
  "nbformat": 4,
  "nbformat_minor": 0,
  "metadata": {
    "colab": {
      "provenance": [],
      "authorship_tag": "ABX9TyPI1z4QtWjd9fXfmEphIJ+O",
      "include_colab_link": true
    },
    "kernelspec": {
      "name": "python3",
      "display_name": "Python 3"
    },
    "language_info": {
      "name": "python"
    }
  },
  "cells": [
    {
      "cell_type": "markdown",
      "metadata": {
        "id": "view-in-github",
        "colab_type": "text"
      },
      "source": [
        "<a href=\"https://colab.research.google.com/github/putriramadhanisltg-dot/Praktikum-penweb01/blob/main/tugas%2Cp_web.ipynb\" target=\"_parent\"><img src=\"https://colab.research.google.com/assets/colab-badge.svg\" alt=\"Open In Colab\"/></a>"
      ]
    },
    {
      "cell_type": "code",
      "execution_count": null,
      "metadata": {
        "id": "nf4Gw20Y5boc",
        "colab": {
          "base_uri": "https://localhost:8080/"
        },
        "outputId": "e77e994c-bf24-48a2-e593-5f7d3faba833"
      },
      "outputs": [
        {
          "output_type": "stream",
          "name": "stdout",
          "text": [
            "951\n",
            "651\n",
            "69\n",
            "319\n",
            "601\n",
            "485\n",
            "507\n",
            "725\n",
            "547\n",
            "615\n",
            "83\n",
            "165\n",
            "141\n",
            "501\n",
            "263\n",
            "617\n",
            "865\n",
            "575\n",
            "219\n",
            "105\n",
            "941\n",
            "47\n",
            "907\n",
            "375\n",
            "823\n",
            "597\n",
            "615\n",
            "953\n",
            "345\n",
            "399\n",
            "219\n",
            "237\n",
            "949\n",
            "687\n",
            "217\n",
            "815\n",
            "67\n",
            "767\n"
          ]
        }
      ],
      "source": [
        "#Cetak semua bilangan ganjil dari list berikut,\n",
        "#hentikan perulangan ketika sudah melewati bilanga n 553.\n",
        "#Pakai perulangan while.\n",
        "angka =  [ 951 , 402 , 984 , 651 , 360 , 69 , 408 , 319 , 601 , 485 , 980 , 507 , 725 ,\n",
        "547 , 544 , 615 , 83 , 165 , 141 , 501 , 263 , 617 , 865 , 575 , 219 , 390 ,\n",
        "984 , 592 , 236 , 105 , 942 , 941 , 386 , 462 , 47 , 418 , 907 , 344 , 236 ,\n",
        "375 , 823 , 566 , 597 , 978 , 328 , 615 , 953 , 345 , 399 , 162 , 758 , 219 ,\n",
        "918 , 237 , 412 , 566 , 826 , 248 , 866 , 950 , 626 , 949 , 687 , 217 , 815 ,\n",
        "67 , 104 , 58 , 512 , 24 , 892 , 894 , 767 , 553 , 81 , 379 , 843 , 831 , 445 ,\n",
        "742 , 717 , 958 , 609 , 842 , 451 , 688 , 753 , 854 , 685 , 93 , 857 , 440 ,\n",
        "380 , 126 , 721 , 328 , 753 , 470 , 743 , 527 ]\n",
        "\n",
        "index =  0\n",
        "sementara  index <= len ( angka ): jika  angka [ indeks ]  ==  553 : break jika  angka [ indeks ]  % 2  ==  1 : print ( angka [ indeks ])   index +=  1"
      ]
    },
    {
      "cell_type": "code",
      "source": [
        "#Buatlah output dari menggunakan bahasa pemrograman pyhton dengan:\n",
        "# 1+3+5+7+9+11+13+15+17+19\n",
        "\n",
        "jumlah=0\n",
        "string=\"\"\n",
        "bilangan=1\n",
        "while bilangan<=19:\n",
        "  jumlah+=bilangan\n",
        "  string+=str(bilangan)\n",
        "  if bilangan<19:\n",
        "    string+= '+'\n",
        "  bilangan+=2\n",
        "print(string, '=',jumlah)"
      ],
      "metadata": {
        "colab": {
          "base_uri": "https://localhost:8080/"
        },
        "id": "0nvSRhj26sqg",
        "outputId": "26b4d9fb-5fee-4705-a4cf-139356a90f95"
      },
      "execution_count": null,
      "outputs": [
        {
          "output_type": "stream",
          "name": "stdout",
          "text": [
            "1+3+5+7+9+11+13+15+17+19 = 100\n"
          ]
        }
      ]
    },
    {
      "cell_type": "code",
      "source": [
        "\n",
        "# Buat program untuk minta input jumlah baris dan buatrangkaian berikut ini\n",
        "# *\n",
        "# **\n",
        "# ***\n",
        "# ****\n",
        "#Dan seterusnya sejumlah baris yang diinputkan\n",
        "#Gunakan for loop dengan range\n",
        "\n",
        "baris=int(input('masukan angkat:'))\n",
        "for i in range(1,baris+1):\n",
        "  print('*'*i)"
      ],
      "metadata": {
        "colab": {
          "base_uri": "https://localhost:8080/"
        },
        "id": "soQEQQ7lF4xX",
        "outputId": "5686ff71-a9a9-46db-da60-198afa385495"
      },
      "execution_count": null,
      "outputs": [
        {
          "output_type": "stream",
          "name": "stdout",
          "text": [
            "masukan angkat:7\n",
            "*\n",
            "**\n",
            "***\n",
            "****\n",
            "*****\n",
            "******\n",
            "*******\n"
          ]
        }
      ]
    }
  ]
}