{
  "cells": [
    {
      "cell_type": "markdown",
      "metadata": {
        "id": "view-in-github",
        "colab_type": "text"
      },
      "source": [
        "<a href=\"https://colab.research.google.com/github/putriramadhanisltg-dot/Praktikum-penweb01/blob/main/ddp_pratikum_5_.ipynb\" target=\"_parent\"><img src=\"https://colab.research.google.com/assets/colab-badge.svg\" alt=\"Open In Colab\"/></a>"
      ]
    },
    {
      "cell_type": "code",
      "execution_count": null,
      "metadata": {
        "colab": {
          "base_uri": "https://localhost:8080/"
        },
        "id": "2j1GPswfz1fJ",
        "outputId": "acca182a-5da0-45ec-c57c-1a181b93aef8"
      },
      "outputs": [
        {
          "name": "stdout",
          "output_type": "stream",
          "text": [
            "['beat ember', 'motor', 200, 'Hitam', 2]\n",
            "['beat ember', 'motor', 200, 'Hitam', 2, 5000, 'matic']\n",
            "['beat ember', 'motor', 'Honda', 200, 'Hitam', 2, 5000, 'matic']\n"
          ]
        }
      ],
      "source": [
        "namakendaraan =  \"mengalahkan bara\"\n",
        "jeniskendaraan=  \"motor\"\n",
        "cckendaraan=  200\n",
        "warnakendaraan=  \"Hitam\"\n",
        "rodakendaraan=  2\n",
        "\n",
        "data_kendaraan =  [  namakendaraan ,  jeniskendaraan ,  cckendaraan ,  warnakendaraan ,  rodakendaraan  ]\n",
        "print ( data_kendaraan )\n",
        "\n",
        "hargakendaraan=  5000\n",
        "tipekendaraan=  \"matic\"\n",
        "\n",
        "data_kendaraan.append ( hargakendaraan )\n",
        "data_kendaraan.append ( tipekendaraan )\n",
        "\n",
        "print ( data_kendaraan )\n",
        "\n",
        "merkkendaraan =  \"Honda\"\n",
        "data_kendaraan.insert ( 2 ,  merkkendaraan )\n",
        "print ( data_kendaraan )"
      ]
    },
    {
      "cell_type": "code",
      "source": [
        "pilihan = input(\"\"\"\n",
        "silahkan pilih menu yang di inginkan\n",
        "____________________________________\n",
        "1. luas persegi\n",
        "2. luas lingkaran\n",
        "3. luas segitiga\n",
        "____________________________________\n",
        "kirimkan hanya angka saja,\n",
        "jawaban = \"\"\")\n",
        "\n",
        "match pilihan:\n",
        "  case \"1\":\n",
        "    print(\"anda memilih persegi silahkan isi data dibawah\")\n",
        "    sisi = int(input(\"sisi = \"))\n",
        "    luas = sisi * sisi\n",
        "\n",
        "    print(f\"luas persegi dengan sisi {sisi} adalah {luas}\")\n",
        "    #luas persegi\n",
        "  case \"2\":\n",
        "    print(\"anda memilih lingkaran silahkan isi data dibawah\")\n",
        "    jarijari = int(input(\"jarijari = \"))\n",
        "    luas = 3.14 * jarijari**2\n",
        "\n",
        "    print(f\"luas lingkaran dengan jarijari {jarijari} adalah {luas}\")\n",
        "    #luas lingkaran\n",
        "  case \"3\":\n",
        "    print(\"anda memilih segitiga silahkan isi data dibawah\")\n",
        "    alas = int(input(\"alas = \"))\n",
        "    tinggi = int(input(\"tinggi = \"))\n",
        "    luas = (alas * tinggi) /2\n",
        "\n",
        "    print(f\"luas lingkaran dengan alas {alas} dan tinggi {tinggi} adalah {luas}\")\n",
        "    #luas segitiga\n",
        "\n",
        "  case _:\n",
        "    print(\"kenapa yaa\")"
      ],
      "metadata": {
        "colab": {
          "base_uri": "https://localhost:8080/"
        },
        "id": "Vr53dL9xGB37",
        "outputId": "eb3d81d9-8192-424e-bb12-e1482a7b96ec"
      },
      "execution_count": null,
      "outputs": [
        {
          "output_type": "stream",
          "name": "stdout",
          "text": [
            "\n",
            "silahkan pilih menu yang di inginkan \n",
            "____________________________________\n",
            "1. luas persegi\n",
            "2. luas lingkaran\n",
            "3. luas segitiga\n",
            "____________________________________\n",
            "kirimkan hanya angka saja,\n",
            "jawaban = 2\n",
            "anda memilih lingkaran silahkan isi data dibawah\n",
            "jarijari = 4\n",
            "luas lingkaran dengan jarijari 4 adalah 50.24\n"
          ]
        }
      ]
    }
  ],
  "metadata": {
    "colab": {
      "provenance": [],
      "authorship_tag": "ABX9TyOsfLen8x4sokG1Z1YwyVqo",
      "include_colab_link": true
    },
    "kernelspec": {
      "display_name": "Python 3",
      "name": "python3"
    },
    "language_info": {
      "name": "python"
    }
  },
  "nbformat": 4,
  "nbformat_minor": 0
}